{
 "cells": [
  {
   "cell_type": "markdown",
   "id": "c115019b",
   "metadata": {},
   "source": [
    "# Regularisation on MNIST dataset"
   ]
  },
  {
   "cell_type": "code",
   "execution_count": 2,
   "id": "9c00b269",
   "metadata": {},
   "outputs": [
    {
     "name": "stderr",
     "output_type": "stream",
     "text": [
      "2023-02-23 09:36:42.026564: I tensorflow/core/platform/cpu_feature_guard.cc:193] This TensorFlow binary is optimized with oneAPI Deep Neural Network Library (oneDNN) to use the following CPU instructions in performance-critical operations:  AVX2 FMA\n",
      "To enable them in other operations, rebuild TensorFlow with the appropriate compiler flags.\n",
      "2023-02-23 09:36:42.897437: W tensorflow/compiler/xla/stream_executor/platform/default/dso_loader.cc:64] Could not load dynamic library 'libcudart.so.11.0'; dlerror: libcudart.so.11.0: cannot open shared object file: No such file or directory; LD_LIBRARY_PATH: /opt/rstudio/latest/lib:\n",
      "2023-02-23 09:36:42.897506: I tensorflow/compiler/xla/stream_executor/cuda/cudart_stub.cc:29] Ignore above cudart dlerror if you do not have a GPU set up on your machine.\n",
      "2023-02-23 09:36:45.053173: W tensorflow/compiler/xla/stream_executor/platform/default/dso_loader.cc:64] Could not load dynamic library 'libnvinfer.so.7'; dlerror: libnvinfer.so.7: cannot open shared object file: No such file or directory; LD_LIBRARY_PATH: /opt/rstudio/latest/lib:\n",
      "2023-02-23 09:36:45.053400: W tensorflow/compiler/xla/stream_executor/platform/default/dso_loader.cc:64] Could not load dynamic library 'libnvinfer_plugin.so.7'; dlerror: libnvinfer_plugin.so.7: cannot open shared object file: No such file or directory; LD_LIBRARY_PATH: /opt/rstudio/latest/lib:\n",
      "2023-02-23 09:36:45.053417: W tensorflow/compiler/tf2tensorrt/utils/py_utils.cc:38] TF-TRT Warning: Cannot dlopen some TensorRT libraries. If you would like to use Nvidia GPU with TensorRT, please make sure the missing libraries mentioned above are installed properly.\n"
     ]
    }
   ],
   "source": [
    "import tensorflow as tf\n",
    "from tensorflow.python.keras import regularizers\n",
    "\n",
    "from tensorflow.keras.layers import Dense, Flatten,Dropout, BatchNormalization, Conv2D\n",
    "#from tensorflow.keras import Model\n",
    "from tensorflow.keras.preprocessing.image import ImageDataGenerator\n",
    "\n",
    "import matplotlib.pyplot as plt\n",
    "\n",
    "import numpy as np\n",
    "\n",
    "import warnings\n",
    "warnings.filterwarnings('ignore')"
   ]
  },
  {
   "cell_type": "code",
   "execution_count": 3,
   "id": "5b5c6c68",
   "metadata": {},
   "outputs": [],
   "source": [
    "mnist = tf.keras.datasets.mnist\n",
    "(x_train, y_train), (x_test, y_test) = mnist.load_data()\n",
    "\n",
    "x_train = x_train[..., tf.newaxis].astype(np.float32)\n",
    "x_test = x_test[..., tf.newaxis].astype(np.float32)"
   ]
  },
  {
   "cell_type": "code",
   "execution_count": 4,
   "id": "fb9a02d2",
   "metadata": {},
   "outputs": [
    {
     "name": "stdout",
     "output_type": "stream",
     "text": [
      "(1000, 28, 28, 1)\n",
      "(10000, 28, 28, 1)\n"
     ]
    }
   ],
   "source": [
    "n_train = 1000\n",
    "x_train = x_train[0:n_train, :]\n",
    "y_train = y_train[0:n_train]\n",
    "\n",
    "print(x_train.shape)\n",
    "print(x_test.shape)"
   ]
  },
  {
   "cell_type": "code",
   "execution_count": 5,
   "id": "0873c841",
   "metadata": {},
   "outputs": [
    {
     "name": "stdout",
     "output_type": "stream",
     "text": [
      "float32\n"
     ]
    }
   ],
   "source": [
    "print(x_train.dtype)\n"
   ]
  },
  {
   "cell_type": "code",
   "execution_count": 6,
   "id": "4eaa17c6",
   "metadata": {},
   "outputs": [],
   "source": [
    "def plotImages(images_arr):\n",
    "    fig, axes = plt.subplots(1, 5, figsize=(15, 15))\n",
    "    axes = axes.flatten()\n",
    "    for img, ax in zip( images_arr, axes):\n",
    "        ax.imshow(np.squeeze(img))\n",
    "        ax.axis('off')\n",
    "    plt.tight_layout()\n",
    "    plt.show()"
   ]
  },
  {
   "cell_type": "code",
   "execution_count": 7,
   "id": "a0d0009d",
   "metadata": {
    "scrolled": true
   },
   "outputs": [
    {
     "data": {
      "image/png": "[encoded data removed]",
      "text/plain": [
       "<Figure size 1500x1500 with 5 Axes>"
      ]
     },
     "metadata": {},
     "output_type": "display_data"
    }
   ],
   "source": [
    "image_generator = ImageDataGenerator(rescale=1./255) \n",
    "data_gen = image_generator.flow(x_train, y_train, batch_size=32) \n",
    "sample_images, sample_labels = next(data_gen)\n",
    "plotImages(sample_images[:5])"
   ]
  },
  {
   "cell_type": "code",
   "execution_count": 8,
   "id": "9356a76e",
   "metadata": {},
   "outputs": [],
   "source": [
    "class BasicCNN(tf.keras.Model):\n",
    "  def __init__(self):\n",
    "    super().__init__()\n",
    "    \n",
    "    self.conv1 = Conv2D(32, 3, activation='relu')\n",
    "    self.flatten = Flatten()\n",
    "    self.d1 = Dense(128, activation='relu')\n",
    "    self.d2 = Dense(10, activation='softmax')\n",
    "\n",
    "  def call(self, x):\n",
    "    x = self.conv1(x)\n",
    "    x = self.flatten(x)\n",
    "    x = self.d1(x)\n",
    "    return self.d2(x)"
   ]
  },
  {
   "cell_type": "markdown",
   "id": "d74d8ae5",
   "metadata": {},
   "source": [
    "## Train model with no regularization"
   ]
  },
  {
   "cell_type": "code",
   "execution_count": 9,
   "id": "b101ccd7",
   "metadata": {},
   "outputs": [
    {
     "name": "stderr",
     "output_type": "stream",
     "text": [
      "2023-02-23 09:36:49.855589: W tensorflow/compiler/xla/stream_executor/platform/default/dso_loader.cc:64] Could not load dynamic library 'libcuda.so.1'; dlerror: libcuda.so.1: cannot open shared object file: No such file or directory; LD_LIBRARY_PATH: /opt/rstudio/latest/lib:\n",
      "2023-02-23 09:36:49.856181: W tensorflow/compiler/xla/stream_executor/cuda/cuda_driver.cc:265] failed call to cuInit: UNKNOWN ERROR (303)\n",
      "2023-02-23 09:36:49.856214: I tensorflow/compiler/xla/stream_executor/cuda/cuda_diagnostics.cc:156] kernel driver does not appear to be running on this host (Blackthorn): /proc/driver/nvidia/version does not exist\n",
      "2023-02-23 09:36:49.857583: I tensorflow/core/platform/cpu_feature_guard.cc:193] This TensorFlow binary is optimized with oneAPI Deep Neural Network Library (oneDNN) to use the following CPU instructions in performance-critical operations:  AVX2 FMA\n",
      "To enable them in other operations, rebuild TensorFlow with the appropriate compiler flags.\n"
     ]
    },
    {
     "name": "stdout",
     "output_type": "stream",
     "text": [
      "Epoch 1/20\n",
      "32/32 [==============================] - 4s 101ms/step - loss: 0.8728 - accuracy: 0.7350 - val_loss: 0.5770 - val_accuracy: 0.8233\n",
      "Epoch 2/20\n",
      "32/32 [==============================] - 3s 94ms/step - loss: 0.2873 - accuracy: 0.9170 - val_loss: 0.4507 - val_accuracy: 0.8603\n",
      "Epoch 3/20\n",
      "32/32 [==============================] - 3s 93ms/step - loss: 0.1442 - accuracy: 0.9560 - val_loss: 0.4536 - val_accuracy: 0.8617\n",
      "Epoch 4/20\n",
      "32/32 [==============================] - 3s 93ms/step - loss: 0.0692 - accuracy: 0.9840 - val_loss: 0.3924 - val_accuracy: 0.8868\n",
      "Epoch 5/20\n",
      "32/32 [==============================] - 3s 105ms/step - loss: 0.0302 - accuracy: 0.9990 - val_loss: 0.4006 - val_accuracy: 0.8877\n",
      "Epoch 6/20\n",
      "32/32 [==============================] - 4s 122ms/step - loss: 0.0115 - accuracy: 1.0000 - val_loss: 0.3968 - val_accuracy: 0.8960\n",
      "Epoch 7/20\n",
      "32/32 [==============================] - 3s 105ms/step - loss: 0.0060 - accuracy: 1.0000 - val_loss: 0.4023 - val_accuracy: 0.8979\n",
      "Epoch 8/20\n",
      "32/32 [==============================] - 3s 94ms/step - loss: 0.0037 - accuracy: 1.0000 - val_loss: 0.4047 - val_accuracy: 0.9001\n",
      "Epoch 9/20\n",
      "32/32 [==============================] - 3s 94ms/step - loss: 0.0027 - accuracy: 1.0000 - val_loss: 0.4148 - val_accuracy: 0.8996\n",
      "Epoch 10/20\n",
      "32/32 [==============================] - 3s 92ms/step - loss: 0.0022 - accuracy: 1.0000 - val_loss: 0.4239 - val_accuracy: 0.8993\n",
      "Epoch 11/20\n",
      "32/32 [==============================] - 3s 93ms/step - loss: 0.0018 - accuracy: 1.0000 - val_loss: 0.4270 - val_accuracy: 0.8996\n",
      "Epoch 12/20\n",
      "32/32 [==============================] - 3s 92ms/step - loss: 0.0014 - accuracy: 1.0000 - val_loss: 0.4304 - val_accuracy: 0.8997\n",
      "Epoch 13/20\n",
      "32/32 [==============================] - 3s 92ms/step - loss: 0.0012 - accuracy: 1.0000 - val_loss: 0.4366 - val_accuracy: 0.8997\n",
      "Epoch 14/20\n",
      "32/32 [==============================] - 3s 94ms/step - loss: 0.0010 - accuracy: 1.0000 - val_loss: 0.4395 - val_accuracy: 0.8993\n",
      "Epoch 15/20\n",
      "32/32 [==============================] - 4s 118ms/step - loss: 8.8478e-04 - accuracy: 1.0000 - val_loss: 0.4437 - val_accuracy: 0.9004\n",
      "Epoch 16/20\n",
      "32/32 [==============================] - 3s 93ms/step - loss: 7.6936e-04 - accuracy: 1.0000 - val_loss: 0.4479 - val_accuracy: 0.8992\n",
      "Epoch 17/20\n",
      "32/32 [==============================] - 3s 92ms/step - loss: 6.8425e-04 - accuracy: 1.0000 - val_loss: 0.4500 - val_accuracy: 0.9002\n",
      "Epoch 18/20\n",
      "32/32 [==============================] - 3s 92ms/step - loss: 5.9802e-04 - accuracy: 1.0000 - val_loss: 0.4544 - val_accuracy: 0.9008\n",
      "Epoch 19/20\n",
      "32/32 [==============================] - 3s 95ms/step - loss: 5.3395e-04 - accuracy: 1.0000 - val_loss: 0.4569 - val_accuracy: 0.9005\n",
      "Epoch 20/20\n",
      "32/32 [==============================] - 3s 95ms/step - loss: 4.7021e-04 - accuracy: 1.0000 - val_loss: 0.4615 - val_accuracy: 0.9003\n"
     ]
    },
    {
     "data": {
      "text/plain": [
       "<keras.callbacks.History at 0x7fdf2996e340>"
      ]
     },
     "execution_count": 9,
     "metadata": {},
     "output_type": "execute_result"
    }
   ],
   "source": [
    "train_gen = ImageDataGenerator(rescale=1./255)\n",
    "val_gen = ImageDataGenerator(rescale=1./255)\n",
    "\n",
    "CNN = BasicCNN()\n",
    "\n",
    "CNN.compile(optimizer='adam',\n",
    "              loss=tf.keras.losses.SparseCategoricalCrossentropy(from_logits=True),\n",
    "              metrics=['accuracy'])\n",
    "\n",
    "CNN.fit(train_gen.flow(x_train, y_train, batch_size=32),\n",
    "    validation_data=val_gen.flow(x_test, y_test,\n",
    "    batch_size=32), epochs=20)"
   ]
  },
  {
   "cell_type": "markdown",
   "id": "d84e4599",
   "metadata": {},
   "source": [
    "That has given a base loss of 0.44"
   ]
  },
  {
   "cell_type": "markdown",
   "id": "a1166b27",
   "metadata": {},
   "source": [
    "## Augmentation"
   ]
  },
  {
   "cell_type": "code",
   "execution_count": 10,
   "id": "0934d2da",
   "metadata": {},
   "outputs": [
    {
     "data": {
      "image/png": "[encoded data removed]",
      "text/plain": [
       "<Figure size 1500x1500 with 5 Axes>"
      ]
     },
     "metadata": {},
     "output_type": "display_data"
    }
   ],
   "source": [
    "image_generator = ImageDataGenerator(rescale=1./255, \n",
    "                                     rotation_range=20) \n",
    "data_gen = image_generator.flow(x_train, y_train, batch_size=32) \n",
    "augmented_images = [data_gen[0][0][0] for i in range(5)]\n",
    "plotImages(augmented_images)"
   ]
  },
  {
   "cell_type": "code",
   "execution_count": 11,
   "id": "19cfc244",
   "metadata": {},
   "outputs": [
    {
     "name": "stdout",
     "output_type": "stream",
     "text": [
      "Epoch 1/20\n",
      "32/32 [==============================] - 4s 105ms/step - loss: 1.0959 - accuracy: 0.6510 - val_loss: 0.6831 - val_accuracy: 0.7791\n",
      "Epoch 2/20\n",
      "32/32 [==============================] - 3s 98ms/step - loss: 0.5633 - accuracy: 0.8310 - val_loss: 0.4100 - val_accuracy: 0.8733\n",
      "Epoch 3/20\n",
      "32/32 [==============================] - 3s 94ms/step - loss: 0.3382 - accuracy: 0.9030 - val_loss: 0.3672 - val_accuracy: 0.8873\n",
      "Epoch 4/20\n",
      "32/32 [==============================] - 3s 95ms/step - loss: 0.2869 - accuracy: 0.9120 - val_loss: 0.3157 - val_accuracy: 0.9037\n",
      "Epoch 5/20\n",
      "32/32 [==============================] - 3s 99ms/step - loss: 0.2197 - accuracy: 0.9270 - val_loss: 0.3519 - val_accuracy: 0.8898\n",
      "Epoch 6/20\n",
      "32/32 [==============================] - 3s 97ms/step - loss: 0.2003 - accuracy: 0.9420 - val_loss: 0.3121 - val_accuracy: 0.9030\n",
      "Epoch 7/20\n",
      "32/32 [==============================] - 3s 93ms/step - loss: 0.1359 - accuracy: 0.9650 - val_loss: 0.2863 - val_accuracy: 0.9112\n",
      "Epoch 8/20\n",
      "32/32 [==============================] - 3s 94ms/step - loss: 0.1360 - accuracy: 0.9620 - val_loss: 0.2970 - val_accuracy: 0.9098\n",
      "Epoch 9/20\n",
      "32/32 [==============================] - 3s 95ms/step - loss: 0.0954 - accuracy: 0.9720 - val_loss: 0.3160 - val_accuracy: 0.9088\n",
      "Epoch 10/20\n",
      "32/32 [==============================] - 3s 97ms/step - loss: 0.0867 - accuracy: 0.9760 - val_loss: 0.3231 - val_accuracy: 0.9106\n",
      "Epoch 11/20\n",
      "32/32 [==============================] - 3s 101ms/step - loss: 0.0736 - accuracy: 0.9850 - val_loss: 0.3353 - val_accuracy: 0.9052\n",
      "Epoch 12/20\n",
      "32/32 [==============================] - 3s 97ms/step - loss: 0.0560 - accuracy: 0.9850 - val_loss: 0.2820 - val_accuracy: 0.9199\n",
      "Epoch 13/20\n",
      "32/32 [==============================] - 3s 94ms/step - loss: 0.0737 - accuracy: 0.9760 - val_loss: 0.3014 - val_accuracy: 0.9132\n",
      "Epoch 14/20\n",
      "32/32 [==============================] - 3s 94ms/step - loss: 0.0627 - accuracy: 0.9790 - val_loss: 0.2644 - val_accuracy: 0.9249\n",
      "Epoch 15/20\n",
      "32/32 [==============================] - 3s 95ms/step - loss: 0.0515 - accuracy: 0.9850 - val_loss: 0.2865 - val_accuracy: 0.9199\n",
      "Epoch 16/20\n",
      "32/32 [==============================] - 3s 94ms/step - loss: 0.0454 - accuracy: 0.9900 - val_loss: 0.2637 - val_accuracy: 0.9261\n",
      "Epoch 17/20\n",
      "32/32 [==============================] - 3s 95ms/step - loss: 0.0181 - accuracy: 0.9980 - val_loss: 0.2767 - val_accuracy: 0.9262\n",
      "Epoch 18/20\n",
      "32/32 [==============================] - 3s 94ms/step - loss: 0.0275 - accuracy: 0.9920 - val_loss: 0.2774 - val_accuracy: 0.9267\n",
      "Epoch 19/20\n",
      "32/32 [==============================] - 3s 97ms/step - loss: 0.0225 - accuracy: 0.9950 - val_loss: 0.3140 - val_accuracy: 0.9210\n",
      "Epoch 20/20\n",
      "32/32 [==============================] - 3s 94ms/step - loss: 0.0180 - accuracy: 0.9960 - val_loss: 0.2926 - val_accuracy: 0.9241\n"
     ]
    },
    {
     "data": {
      "text/plain": [
       "<keras.callbacks.History at 0x7fdf2c932280>"
      ]
     },
     "execution_count": 11,
     "metadata": {},
     "output_type": "execute_result"
    }
   ],
   "source": [
    "# Added rotation\n",
    "train_gen = ImageDataGenerator(rescale=1./255,  rotation_range=20)\n",
    "val_gen = ImageDataGenerator(rescale=1./255)\n",
    "\n",
    "CNN = BasicCNN()\n",
    "\n",
    "CNN.compile(optimizer='adam',\n",
    "              loss=tf.keras.losses.SparseCategoricalCrossentropy(from_logits=True),\n",
    "              metrics=['accuracy'])\n",
    "\n",
    "CNN.fit(train_gen.flow(x_train, y_train, batch_size=32),\n",
    "    validation_data=val_gen.flow(x_test, y_test,\n",
    "    batch_size=32), epochs=20)"
   ]
  },
  {
   "cell_type": "markdown",
   "id": "bfed2612",
   "metadata": {},
   "source": [
    "With added rotation we have a loss of 0.26"
   ]
  },
  {
   "cell_type": "code",
   "execution_count": 12,
   "id": "0a22eda8",
   "metadata": {},
   "outputs": [
    {
     "data": {
      "image/png": "[encoded data removed]",
      "text/plain": [
       "<Figure size 1500x1500 with 5 Axes>"
      ]
     },
     "metadata": {},
     "output_type": "display_data"
    }
   ],
   "source": [
    "# Add Zoom and shear\n",
    "image_generator = ImageDataGenerator(rescale=1./255, shear_range = 0.2, zoom_range =0.2, rotation_range=20) \n",
    "data_gen = image_generator.flow(x_train, y_train, batch_size=32) \n",
    "augmented_images = [data_gen[0][0][0] for i in range(5)]\n",
    "plotImages(augmented_images)"
   ]
  },
  {
   "cell_type": "code",
   "execution_count": 13,
   "id": "98007536",
   "metadata": {},
   "outputs": [
    {
     "name": "stdout",
     "output_type": "stream",
     "text": [
      "Epoch 1/20\n",
      "32/32 [==============================] - 4s 99ms/step - loss: 1.1554 - accuracy: 0.6310 - val_loss: 0.5059 - val_accuracy: 0.8338\n",
      "Epoch 2/20\n",
      "32/32 [==============================] - 3s 94ms/step - loss: 0.5622 - accuracy: 0.8220 - val_loss: 0.4574 - val_accuracy: 0.8485\n",
      "Epoch 3/20\n",
      "32/32 [==============================] - 3s 97ms/step - loss: 0.4185 - accuracy: 0.8870 - val_loss: 0.3396 - val_accuracy: 0.8905\n",
      "Epoch 4/20\n",
      "32/32 [==============================] - 3s 101ms/step - loss: 0.3572 - accuracy: 0.8820 - val_loss: 0.3133 - val_accuracy: 0.8962\n",
      "Epoch 5/20\n",
      "32/32 [==============================] - 3s 96ms/step - loss: 0.3116 - accuracy: 0.9030 - val_loss: 0.3142 - val_accuracy: 0.9004\n",
      "Epoch 6/20\n",
      "32/32 [==============================] - 3s 96ms/step - loss: 0.2518 - accuracy: 0.9280 - val_loss: 0.2651 - val_accuracy: 0.9133\n",
      "Epoch 7/20\n",
      "32/32 [==============================] - 3s 95ms/step - loss: 0.1903 - accuracy: 0.9460 - val_loss: 0.2356 - val_accuracy: 0.9262\n",
      "Epoch 8/20\n",
      "32/32 [==============================] - 3s 97ms/step - loss: 0.2259 - accuracy: 0.9350 - val_loss: 0.2214 - val_accuracy: 0.9308\n",
      "Epoch 9/20\n",
      "32/32 [==============================] - 3s 100ms/step - loss: 0.1665 - accuracy: 0.9500 - val_loss: 0.2065 - val_accuracy: 0.9355\n",
      "Epoch 10/20\n",
      "32/32 [==============================] - 3s 96ms/step - loss: 0.1474 - accuracy: 0.9590 - val_loss: 0.2159 - val_accuracy: 0.9327\n",
      "Epoch 11/20\n",
      "32/32 [==============================] - 3s 96ms/step - loss: 0.1299 - accuracy: 0.9630 - val_loss: 0.2083 - val_accuracy: 0.9332\n",
      "Epoch 12/20\n",
      "32/32 [==============================] - 3s 95ms/step - loss: 0.1111 - accuracy: 0.9680 - val_loss: 0.2107 - val_accuracy: 0.9327\n",
      "Epoch 13/20\n",
      "32/32 [==============================] - 3s 94ms/step - loss: 0.1135 - accuracy: 0.9670 - val_loss: 0.1799 - val_accuracy: 0.9438\n",
      "Epoch 14/20\n",
      "32/32 [==============================] - 3s 94ms/step - loss: 0.0777 - accuracy: 0.9760 - val_loss: 0.2111 - val_accuracy: 0.9346\n",
      "Epoch 15/20\n",
      "32/32 [==============================] - 3s 96ms/step - loss: 0.0849 - accuracy: 0.9760 - val_loss: 0.1862 - val_accuracy: 0.9441\n",
      "Epoch 16/20\n",
      "32/32 [==============================] - 3s 95ms/step - loss: 0.0655 - accuracy: 0.9830 - val_loss: 0.1835 - val_accuracy: 0.9453\n",
      "Epoch 17/20\n",
      "32/32 [==============================] - 3s 97ms/step - loss: 0.0609 - accuracy: 0.9830 - val_loss: 0.1849 - val_accuracy: 0.9465\n",
      "Epoch 18/20\n",
      "32/32 [==============================] - 3s 94ms/step - loss: 0.0838 - accuracy: 0.9720 - val_loss: 0.1900 - val_accuracy: 0.9442\n",
      "Epoch 19/20\n",
      "32/32 [==============================] - 3s 94ms/step - loss: 0.0643 - accuracy: 0.9860 - val_loss: 0.1956 - val_accuracy: 0.9407\n",
      "Epoch 20/20\n",
      "32/32 [==============================] - 3s 95ms/step - loss: 0.0637 - accuracy: 0.9780 - val_loss: 0.2006 - val_accuracy: 0.9376\n"
     ]
    },
    {
     "data": {
      "text/plain": [
       "<keras.callbacks.History at 0x7fdf04342a90>"
      ]
     },
     "execution_count": 13,
     "metadata": {},
     "output_type": "execute_result"
    }
   ],
   "source": [
    "# Added zoom and shear\n",
    "train_gen = ImageDataGenerator(rescale=1./255, shear_range = 0.2, zoom_range =0.2, rotation_range=20)\n",
    "val_gen = ImageDataGenerator(rescale=1./255)\n",
    "\n",
    "CNN = BasicCNN()\n",
    "\n",
    "CNN.compile(optimizer='adam',\n",
    "              loss=tf.keras.losses.SparseCategoricalCrossentropy(from_logits=True),\n",
    "              metrics=['accuracy'])\n",
    "\n",
    "CNN.fit(train_gen.flow(x_train, y_train, batch_size=32),\n",
    "    validation_data=val_gen.flow(x_test, y_test,\n",
    "    batch_size=32), epochs=20)"
   ]
  },
  {
   "cell_type": "markdown",
   "id": "75528d52",
   "metadata": {},
   "source": [
    "With shear and zoom added we have the loss down to 0.2"
   ]
  },
  {
   "cell_type": "markdown",
   "id": "436b6ecb",
   "metadata": {},
   "source": [
    "## Early stopping"
   ]
  },
  {
   "cell_type": "code",
   "execution_count": 14,
   "id": "51d66e0f",
   "metadata": {},
   "outputs": [
    {
     "name": "stdout",
     "output_type": "stream",
     "text": [
      "Epoch 1/20\n",
      "32/32 [==============================] - 4s 99ms/step - loss: 1.1472 - accuracy: 0.6340 - val_loss: 0.5848 - val_accuracy: 0.8184\n",
      "Epoch 2/20\n",
      "32/32 [==============================] - 3s 95ms/step - loss: 0.5812 - accuracy: 0.8260 - val_loss: 0.4402 - val_accuracy: 0.8542\n",
      "Epoch 3/20\n",
      "32/32 [==============================] - 3s 95ms/step - loss: 0.4110 - accuracy: 0.8780 - val_loss: 0.3571 - val_accuracy: 0.8834\n",
      "Epoch 4/20\n",
      "32/32 [==============================] - 3s 93ms/step - loss: 0.3545 - accuracy: 0.9010 - val_loss: 0.3056 - val_accuracy: 0.9054\n",
      "Epoch 5/20\n",
      "32/32 [==============================] - 3s 95ms/step - loss: 0.2918 - accuracy: 0.9160 - val_loss: 0.2762 - val_accuracy: 0.9128\n",
      "Epoch 6/20\n",
      "32/32 [==============================] - 3s 96ms/step - loss: 0.2291 - accuracy: 0.9450 - val_loss: 0.2381 - val_accuracy: 0.9243\n",
      "Epoch 7/20\n",
      "32/32 [==============================] - 3s 99ms/step - loss: 0.2095 - accuracy: 0.9390 - val_loss: 0.2250 - val_accuracy: 0.9319\n",
      "Epoch 8/20\n",
      "32/32 [==============================] - 3s 103ms/step - loss: 0.1691 - accuracy: 0.9600 - val_loss: 0.2207 - val_accuracy: 0.9306\n",
      "Epoch 9/20\n",
      "32/32 [==============================] - 3s 98ms/step - loss: 0.1660 - accuracy: 0.9470 - val_loss: 0.2193 - val_accuracy: 0.9303\n",
      "Epoch 10/20\n",
      "32/32 [==============================] - 3s 94ms/step - loss: 0.1334 - accuracy: 0.9670 - val_loss: 0.2072 - val_accuracy: 0.9355\n",
      "Epoch 11/20\n",
      "32/32 [==============================] - 3s 95ms/step - loss: 0.1250 - accuracy: 0.9630 - val_loss: 0.2060 - val_accuracy: 0.9359\n",
      "Epoch 12/20\n",
      "32/32 [==============================] - 3s 94ms/step - loss: 0.0984 - accuracy: 0.9680 - val_loss: 0.2003 - val_accuracy: 0.9414\n",
      "Epoch 13/20\n",
      "32/32 [==============================] - 3s 95ms/step - loss: 0.1006 - accuracy: 0.9700 - val_loss: 0.2103 - val_accuracy: 0.9369\n",
      "Epoch 14/20\n",
      "32/32 [==============================] - 3s 101ms/step - loss: 0.1175 - accuracy: 0.9640 - val_loss: 0.1886 - val_accuracy: 0.9409\n",
      "Epoch 15/20\n",
      "32/32 [==============================] - 3s 98ms/step - loss: 0.0831 - accuracy: 0.9700 - val_loss: 0.2030 - val_accuracy: 0.9380\n",
      "Epoch 16/20\n",
      "32/32 [==============================] - 3s 102ms/step - loss: 0.0945 - accuracy: 0.9750 - val_loss: 0.1858 - val_accuracy: 0.9457\n",
      "Epoch 17/20\n",
      "32/32 [==============================] - 3s 99ms/step - loss: 0.0727 - accuracy: 0.9830 - val_loss: 0.1965 - val_accuracy: 0.9422\n",
      "Epoch 18/20\n",
      "32/32 [==============================] - 3s 97ms/step - loss: 0.0688 - accuracy: 0.9860 - val_loss: 0.2011 - val_accuracy: 0.9431\n",
      "Epoch 19/20\n",
      "32/32 [==============================] - 3s 96ms/step - loss: 0.1014 - accuracy: 0.9710 - val_loss: 0.1671 - val_accuracy: 0.9490\n",
      "Epoch 20/20\n",
      "32/32 [==============================] - 3s 94ms/step - loss: 0.0588 - accuracy: 0.9860 - val_loss: 0.1909 - val_accuracy: 0.9439\n"
     ]
    },
    {
     "data": {
      "text/plain": [
       "<keras.callbacks.History at 0x7fdf040d16a0>"
      ]
     },
     "execution_count": 14,
     "metadata": {},
     "output_type": "execute_result"
    }
   ],
   "source": [
    "# Early stop added\n",
    "callback = tf.keras.callbacks.EarlyStopping(monitor='val_loss', patience=4)\n",
    "\n",
    "train_gen = ImageDataGenerator(rescale=1./255, shear_range = 0.2, zoom_range =0.2, rotation_range=20)\n",
    "val_gen = ImageDataGenerator(rescale=1./255)\n",
    "\n",
    "CNN = BasicCNN()\n",
    "\n",
    "CNN.compile(optimizer='adam',\n",
    "              loss=tf.keras.losses.SparseCategoricalCrossentropy(from_logits=True),\n",
    "              metrics=['accuracy'])\n",
    "\n",
    "CNN.fit(train_gen.flow(x_train, y_train, batch_size=32),\n",
    "    validation_data=val_gen.flow(x_test, y_test,\n",
    "    batch_size=32),callbacks=[callback],epochs=20)"
   ]
  },
  {
   "cell_type": "markdown",
   "id": "070591c1",
   "metadata": {},
   "source": [
    "As you can see the validation loss did not improve after 0.187 so the model stopped after 13 epochs."
   ]
  },
  {
   "cell_type": "markdown",
   "id": "58ce8062",
   "metadata": {},
   "source": [
    "## L1/L2 Norm penalty\n"
   ]
  },
  {
   "cell_type": "code",
   "execution_count": 37,
   "id": "c881805f",
   "metadata": {},
   "outputs": [],
   "source": [
    "class NormCNN(tf.keras.Model):\n",
    "  def __init__(self):\n",
    "    super().__init__()\n",
    "    self.conv1 = Conv2D(32, 3, activation='relu', kernel_regularizer=regularizers.l1(0.0001))\n",
    "    self.conv2 = Conv2D(64, (3, 3), activation='relu', kernel_regularizer=regularizers.l2(0.0001))\n",
    "    self.flatten = Flatten()\n",
    "    self.d1 = Dense(128, activation='relu')\n",
    "    self.d2 = Dense(10, activation='softmax')\n",
    "\n",
    "  def call(self, x):\n",
    "    x = self.conv1(x)\n",
    "    x = self.conv2(x)\n",
    "    x = self.flatten(x)\n",
    "    x = self.d1(x)\n",
    "    return self.d2(x)"
   ]
  },
  {
   "cell_type": "code",
   "execution_count": 38,
   "id": "8c9840e1",
   "metadata": {},
   "outputs": [
    {
     "name": "stdout",
     "output_type": "stream",
     "text": [
      "Epoch 1/20\n",
      "32/32 [==============================] - 8s 215ms/step - loss: 1.2269 - accuracy: 0.6160 - val_loss: 0.5266 - val_accuracy: 0.8448\n",
      "Epoch 2/20\n",
      "32/32 [==============================] - 7s 208ms/step - loss: 0.4904 - accuracy: 0.8590 - val_loss: 0.2969 - val_accuracy: 0.9017\n",
      "Epoch 3/20\n",
      "32/32 [==============================] - 7s 209ms/step - loss: 0.3017 - accuracy: 0.9120 - val_loss: 0.2144 - val_accuracy: 0.9342\n",
      "Epoch 4/20\n",
      "32/32 [==============================] - 7s 210ms/step - loss: 0.2260 - accuracy: 0.9380 - val_loss: 0.2002 - val_accuracy: 0.9402\n",
      "Epoch 5/20\n",
      "32/32 [==============================] - 7s 209ms/step - loss: 0.1752 - accuracy: 0.9440 - val_loss: 0.1824 - val_accuracy: 0.9458\n",
      "Epoch 6/20\n",
      "32/32 [==============================] - 8s 244ms/step - loss: 0.1849 - accuracy: 0.9540 - val_loss: 0.1758 - val_accuracy: 0.9430\n",
      "Epoch 7/20\n",
      "32/32 [==============================] - 7s 209ms/step - loss: 0.1189 - accuracy: 0.9640 - val_loss: 0.1637 - val_accuracy: 0.9527\n",
      "Epoch 8/20\n",
      "32/32 [==============================] - 7s 209ms/step - loss: 0.1251 - accuracy: 0.9690 - val_loss: 0.1658 - val_accuracy: 0.9502\n",
      "Epoch 9/20\n",
      "32/32 [==============================] - 7s 209ms/step - loss: 0.1111 - accuracy: 0.9690 - val_loss: 0.1701 - val_accuracy: 0.9507\n",
      "Epoch 10/20\n",
      "32/32 [==============================] - 7s 209ms/step - loss: 0.0966 - accuracy: 0.9730 - val_loss: 0.1368 - val_accuracy: 0.9586\n",
      "Epoch 11/20\n",
      "32/32 [==============================] - 7s 209ms/step - loss: 0.0684 - accuracy: 0.9800 - val_loss: 0.1453 - val_accuracy: 0.9557\n",
      "Epoch 12/20\n",
      "32/32 [==============================] - 7s 209ms/step - loss: 0.0646 - accuracy: 0.9840 - val_loss: 0.1881 - val_accuracy: 0.9498\n",
      "Epoch 13/20\n",
      "32/32 [==============================] - 7s 209ms/step - loss: 0.0795 - accuracy: 0.9780 - val_loss: 0.2248 - val_accuracy: 0.9386\n",
      "Epoch 14/20\n",
      "32/32 [==============================] - 7s 209ms/step - loss: 0.0736 - accuracy: 0.9810 - val_loss: 0.2362 - val_accuracy: 0.9421\n"
     ]
    },
    {
     "data": {
      "text/plain": [
       "<keras.callbacks.History at 0x7fdeee1f94c0>"
      ]
     },
     "execution_count": 38,
     "metadata": {},
     "output_type": "execute_result"
    }
   ],
   "source": [
    "callback = tf.keras.callbacks.EarlyStopping(monitor='val_loss', patience=4)\n",
    "\n",
    "train_gen = ImageDataGenerator(rescale=1./255,shear_range = 0.2, zoom_range =0.2, rotation_range=20)\n",
    "val_gen = ImageDataGenerator(rescale=1./255)\n",
    "\n",
    "CNN = NormCNN()\n",
    "\n",
    "CNN.compile(optimizer='adam',\n",
    "              loss=tf.keras.losses.SparseCategoricalCrossentropy(from_logits=True),\n",
    "              metrics=['accuracy'])\n",
    "\n",
    "CNN.fit(train_gen.flow(x_train, y_train, batch_size=32),\n",
    "    validation_data=val_gen.flow(x_test, y_test,\n",
    "    batch_size=32),callbacks=[callback],epochs=20)"
   ]
  },
  {
   "cell_type": "markdown",
   "id": "3f977bb8",
   "metadata": {},
   "source": [
    "## Dropout"
   ]
  },
  {
   "cell_type": "code",
   "execution_count": 39,
   "id": "d5e3b3d8",
   "metadata": {},
   "outputs": [],
   "source": [
    "class DropoutCNN(tf.keras.Model):\n",
    "  def __init__(self):\n",
    "    super().__init__()\n",
    "    self.conv1 = Conv2D(32, 3, activation='relu', kernel_regularizer=regularizers.l1(0.0001))\n",
    "    self.conv2 = Conv2D(64, (3, 3), activation='relu', kernel_regularizer=regularizers.l2(0.0001))\n",
    "    self.drop1 = Dropout(0.25)\n",
    "    self.flatten = Flatten()\n",
    "    self.d1 = Dense(128, activation='relu')\n",
    "    self.drop2 = Dropout(0.25)\n",
    "    self.d2 = Dense(10, activation='softmax')\n",
    "\n",
    "  def call(self, x):\n",
    "    x = self.conv1(x)\n",
    "    x = self.conv2(x)\n",
    "    x = self.drop1(x)\n",
    "    x = self.flatten(x)\n",
    "    x = self.d1(x)\n",
    "    x = self.drop2(x)\n",
    "    return self.d2(x)"
   ]
  },
  {
   "cell_type": "code",
   "execution_count": 40,
   "id": "73626aa1",
   "metadata": {},
   "outputs": [
    {
     "name": "stdout",
     "output_type": "stream",
     "text": [
      "Epoch 1/20\n",
      "32/32 [==============================] - 8s 227ms/step - loss: 1.3128 - accuracy: 0.5700 - val_loss: 0.5187 - val_accuracy: 0.8407\n",
      "Epoch 2/20\n",
      "32/32 [==============================] - 7s 218ms/step - loss: 0.5994 - accuracy: 0.8190 - val_loss: 0.3065 - val_accuracy: 0.9093\n",
      "Epoch 3/20\n",
      "32/32 [==============================] - 7s 217ms/step - loss: 0.3925 - accuracy: 0.8830 - val_loss: 0.2423 - val_accuracy: 0.9299\n",
      "Epoch 4/20\n",
      "32/32 [==============================] - 7s 220ms/step - loss: 0.3384 - accuracy: 0.9000 - val_loss: 0.2007 - val_accuracy: 0.9410\n",
      "Epoch 5/20\n",
      "32/32 [==============================] - 7s 218ms/step - loss: 0.2689 - accuracy: 0.9220 - val_loss: 0.1601 - val_accuracy: 0.9546\n",
      "Epoch 6/20\n",
      "32/32 [==============================] - 7s 218ms/step - loss: 0.2207 - accuracy: 0.9380 - val_loss: 0.1774 - val_accuracy: 0.9449\n",
      "Epoch 7/20\n",
      "32/32 [==============================] - 7s 219ms/step - loss: 0.2120 - accuracy: 0.9380 - val_loss: 0.1810 - val_accuracy: 0.9452\n",
      "Epoch 8/20\n",
      "32/32 [==============================] - 7s 218ms/step - loss: 0.1697 - accuracy: 0.9510 - val_loss: 0.1365 - val_accuracy: 0.9596\n",
      "Epoch 9/20\n",
      "32/32 [==============================] - 7s 218ms/step - loss: 0.1592 - accuracy: 0.9550 - val_loss: 0.1485 - val_accuracy: 0.9550\n",
      "Epoch 10/20\n",
      "32/32 [==============================] - 7s 238ms/step - loss: 0.1454 - accuracy: 0.9570 - val_loss: 0.1504 - val_accuracy: 0.9567\n",
      "Epoch 11/20\n",
      "32/32 [==============================] - 7s 218ms/step - loss: 0.1298 - accuracy: 0.9580 - val_loss: 0.1423 - val_accuracy: 0.9602\n",
      "Epoch 12/20\n",
      "32/32 [==============================] - 7s 220ms/step - loss: 0.1247 - accuracy: 0.9610 - val_loss: 0.1340 - val_accuracy: 0.9639\n",
      "Epoch 13/20\n",
      "32/32 [==============================] - 7s 219ms/step - loss: 0.1005 - accuracy: 0.9710 - val_loss: 0.1556 - val_accuracy: 0.9571\n",
      "Epoch 14/20\n",
      "32/32 [==============================] - 7s 227ms/step - loss: 0.1068 - accuracy: 0.9660 - val_loss: 0.1436 - val_accuracy: 0.9626\n",
      "Epoch 15/20\n",
      "32/32 [==============================] - 7s 217ms/step - loss: 0.1095 - accuracy: 0.9680 - val_loss: 0.1674 - val_accuracy: 0.9553\n",
      "Epoch 16/20\n",
      "32/32 [==============================] - 7s 220ms/step - loss: 0.1166 - accuracy: 0.9690 - val_loss: 0.1613 - val_accuracy: 0.9565\n"
     ]
    },
    {
     "data": {
      "text/plain": [
       "<keras.callbacks.History at 0x7fdeede59ca0>"
      ]
     },
     "execution_count": 40,
     "metadata": {},
     "output_type": "execute_result"
    }
   ],
   "source": [
    "callback = tf.keras.callbacks.EarlyStopping(monitor='val_loss', patience=4)\n",
    "\n",
    "train_gen = ImageDataGenerator(rescale=1./255,shear_range = 0.2, zoom_range =0.2, rotation_range=20)\n",
    "val_gen = ImageDataGenerator(rescale=1./255)\n",
    "\n",
    "CNN = DropoutCNN()\n",
    "\n",
    "CNN.compile(optimizer='adam',\n",
    "              loss=tf.keras.losses.SparseCategoricalCrossentropy(from_logits=True),\n",
    "              metrics=['accuracy'])\n",
    "\n",
    "CNN.fit(train_gen.flow(x_train, y_train, batch_size=32),\n",
    "    validation_data=val_gen.flow(x_test, y_test,\n",
    "    batch_size=32),callbacks=[callback],epochs=20)"
   ]
  },
  {
   "cell_type": "code",
   "execution_count": 41,
   "id": "3c180246",
   "metadata": {},
   "outputs": [],
   "source": [
    "class BatchNormCNN(tf.keras.Model):\n",
    "  def __init__(self):\n",
    "    super().__init__()\n",
    "    self.conv1 = Conv2D(32, 3, activation='relu', kernel_regularizer=regularizers.l1(0.0001))\n",
    "    self.conv2 = Conv2D(64, (3, 3), activation='relu', kernel_regularizer=regularizers.l2(0.0001))\n",
    "    self.drop1 = Dropout(0.25)\n",
    "    self.flatten = Flatten()\n",
    "    self.batch1 = BatchNormalization()\n",
    "    self.d1 = Dense(128, activation='relu')\n",
    "    self.drop2 = Dropout(0.25)\n",
    "    self.batch2 = BatchNormalization()\n",
    "    self.d2 = Dense(10, activation='softmax')\n",
    "\n",
    "  def call(self, x):\n",
    "    x = self.conv1(x)\n",
    "    x = self.conv2(x)\n",
    "    x = self.drop1(x)\n",
    "    x = self.flatten(x)\n",
    "    x = self.batch1(x)\n",
    "    x = self.d1(x)\n",
    "    x = self.drop2(x)\n",
    "    x = self.batch2(x)\n",
    "    return self.d2(x)"
   ]
  },
  {
   "cell_type": "code",
   "execution_count": 42,
   "id": "c6d565aa",
   "metadata": {},
   "outputs": [
    {
     "name": "stdout",
     "output_type": "stream",
     "text": [
      "Epoch 1/20\n",
      "32/32 [==============================] - 10s 249ms/step - loss: 1.0616 - accuracy: 0.6700 - val_loss: 1.6933 - val_accuracy: 0.6469\n",
      "Epoch 2/20\n",
      "32/32 [==============================] - 8s 242ms/step - loss: 0.4877 - accuracy: 0.8520 - val_loss: 1.8935 - val_accuracy: 0.5968\n",
      "Epoch 3/20\n",
      "32/32 [==============================] - 8s 242ms/step - loss: 0.2986 - accuracy: 0.9210 - val_loss: 1.8459 - val_accuracy: 0.6059\n",
      "Epoch 4/20\n",
      "32/32 [==============================] - 8s 242ms/step - loss: 0.2875 - accuracy: 0.9240 - val_loss: 1.7994 - val_accuracy: 0.7006\n",
      "Epoch 5/20\n",
      "32/32 [==============================] - 8s 242ms/step - loss: 0.2924 - accuracy: 0.9180 - val_loss: 1.6289 - val_accuracy: 0.7611\n",
      "Epoch 6/20\n",
      "32/32 [==============================] - 8s 242ms/step - loss: 0.1935 - accuracy: 0.9460 - val_loss: 1.3921 - val_accuracy: 0.8394\n",
      "Epoch 7/20\n",
      "32/32 [==============================] - 8s 242ms/step - loss: 0.1983 - accuracy: 0.9420 - val_loss: 1.3180 - val_accuracy: 0.8416\n",
      "Epoch 8/20\n",
      "32/32 [==============================] - 8s 242ms/step - loss: 0.1606 - accuracy: 0.9540 - val_loss: 1.1559 - val_accuracy: 0.8918\n",
      "Epoch 9/20\n",
      "32/32 [==============================] - 8s 241ms/step - loss: 0.1456 - accuracy: 0.9630 - val_loss: 1.0165 - val_accuracy: 0.9125\n",
      "Epoch 10/20\n",
      "32/32 [==============================] - 8s 243ms/step - loss: 0.1418 - accuracy: 0.9640 - val_loss: 0.8440 - val_accuracy: 0.9170\n",
      "Epoch 11/20\n",
      "32/32 [==============================] - 8s 242ms/step - loss: 0.1523 - accuracy: 0.9560 - val_loss: 0.5750 - val_accuracy: 0.9532\n",
      "Epoch 12/20\n",
      "32/32 [==============================] - 8s 264ms/step - loss: 0.1095 - accuracy: 0.9780 - val_loss: 0.4712 - val_accuracy: 0.9576\n",
      "Epoch 13/20\n",
      "32/32 [==============================] - 8s 262ms/step - loss: 0.1100 - accuracy: 0.9760 - val_loss: 0.4578 - val_accuracy: 0.9510\n",
      "Epoch 14/20\n",
      "32/32 [==============================] - 8s 242ms/step - loss: 0.1274 - accuracy: 0.9640 - val_loss: 0.2739 - val_accuracy: 0.9544\n",
      "Epoch 15/20\n",
      "32/32 [==============================] - 8s 253ms/step - loss: 0.0979 - accuracy: 0.9760 - val_loss: 0.2375 - val_accuracy: 0.9587\n",
      "Epoch 16/20\n",
      "32/32 [==============================] - 8s 240ms/step - loss: 0.1040 - accuracy: 0.9710 - val_loss: 0.1843 - val_accuracy: 0.9648\n",
      "Epoch 17/20\n",
      "32/32 [==============================] - 8s 243ms/step - loss: 0.1054 - accuracy: 0.9750 - val_loss: 0.1744 - val_accuracy: 0.9649\n",
      "Epoch 18/20\n",
      "32/32 [==============================] - 8s 243ms/step - loss: 0.0853 - accuracy: 0.9800 - val_loss: 0.1399 - val_accuracy: 0.9648\n",
      "Epoch 19/20\n",
      "32/32 [==============================] - 8s 243ms/step - loss: 0.0942 - accuracy: 0.9730 - val_loss: 0.1165 - val_accuracy: 0.9676\n",
      "Epoch 20/20\n",
      "32/32 [==============================] - 8s 242ms/step - loss: 0.0771 - accuracy: 0.9820 - val_loss: 0.1515 - val_accuracy: 0.9557\n"
     ]
    },
    {
     "data": {
      "text/plain": [
       "<keras.callbacks.History at 0x7fdeedde4df0>"
      ]
     },
     "execution_count": 42,
     "metadata": {},
     "output_type": "execute_result"
    }
   ],
   "source": [
    "callback = tf.keras.callbacks.EarlyStopping(monitor='val_loss', patience=4)\n",
    "\n",
    "train_gen = ImageDataGenerator(rescale=1./255,shear_range = 0.2, zoom_range =0.2, rotation_range=20)\n",
    "val_gen = ImageDataGenerator(rescale=1./255)\n",
    "\n",
    "CNN = BatchNormCNN()\n",
    "\n",
    "CNN.compile(optimizer='adam',\n",
    "              loss=tf.keras.losses.SparseCategoricalCrossentropy(from_logits=True),\n",
    "              metrics=['accuracy'])\n",
    "\n",
    "CNN.fit(train_gen.flow(x_train, y_train, batch_size=32),\n",
    "    validation_data=val_gen.flow(x_test, y_test,\n",
    "    batch_size=32),callbacks=[callback],epochs=20)"
   ]
  },
  {
   "cell_type": "code",
   "execution_count": null,
   "id": "2f18e9b4",
   "metadata": {},
   "outputs": [],
   "source": []
  }
 ],
 "metadata": {
  "kernelspec": {
   "display_name": "Python 3 (ipykernel)",
   "language": "python",
   "name": "python3"
  },
  "language_info": {
   "codemirror_mode": {
    "name": "ipython",
    "version": 3
   },
   "file_extension": ".py",
   "mimetype": "text/x-python",
   "name": "python",
   "nbconvert_exporter": "python",
   "pygments_lexer": "ipython3",
   "version": "3.9.12"
  }
 },
 "nbformat": 4,
 "nbformat_minor": 5
}
